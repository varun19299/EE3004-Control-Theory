{
 "cells": [
  {
   "cell_type": "markdown",
   "metadata": {},
   "source": [
    "# Question 3"
   ]
  },
  {
   "cell_type": "code",
   "execution_count": 174,
   "metadata": {},
   "outputs": [],
   "source": [
    "import numpy as np\n",
    "import scipy\n",
    "import matplotlib.pyplot as plt\n",
    "import control\n",
    "import math\n",
    "plt.style.use('ggplot')\n",
    "from sympy.solvers import solve\n",
    "from sympy import Symbol\n",
    "import sympy as sp"
   ]
  },
  {
   "cell_type": "markdown",
   "metadata": {},
   "source": [
    "We define a few helper functions ..."
   ]
  },
  {
   "cell_type": "code",
   "execution_count": 175,
   "metadata": {},
   "outputs": [],
   "source": [
    "def get_params(Mp,ts):\n",
    "    '''\n",
    "    Mp in percent\n",
    "    '''\n",
    "\n",
    "    x = np.log(Mp/100)**2\n",
    "    zeta = x / (x + np.pi**2)\n",
    "    zeta = np.sqrt(zeta)\n",
    "\n",
    "    wn = 4/ts/zeta \n",
    "\n",
    "    return zeta, wn\n",
    "\n",
    "def polar(z):\n",
    "    '''\n",
    "    Get polar representation\n",
    "    '''\n",
    "    a= z.real\n",
    "    b= z.imag\n",
    "    r = math.hypot(a,b)\n",
    "    theta = math.atan2(b,a)\n",
    "    return r,theta # use return instead of print.\n",
    "\n",
    "def get_poles(zeta,wn):\n",
    "    '''\n",
    "    Get poles f4om\n",
    "    '''\n",
    "    return (complex(-zeta*wn, wn*np.sqrt(1-zeta**2)), complex(-zeta*wn ,- wn*np.sqrt(1-zeta**2)))\n",
    "\n",
    "def get_alpha(gamma, theta, phi):\n",
    "    '''\n",
    "    Returns alpha from gamma.\n",
    "    \n",
    "    All angles in radians\n",
    "    '''\n",
    "    num = np.sin(gamma) * np.sin(theta + gamma + phi)\n",
    "    denom = np.sin(theta + gamma) * np.sin(gamma + phi)\n",
    "    return num/denom\n",
    "\n",
    "def get_zc(wn, gamma, theta):\n",
    "    '''\n",
    "    Get zc\n",
    "    '''\n",
    "    num = wn* np.sin(gamma)\n",
    "    denom = np.sin(theta + gamma)\n",
    "    return num/denom"
   ]
  },
  {
   "cell_type": "markdown",
   "metadata": {},
   "source": [
    "We design for $M_p$ = 5 %, and $T_s$ is 0.02s, $K_v$ is 1%. And we shall test if the design satisifies for $T_r$."
   ]
  },
  {
   "cell_type": "code",
   "execution_count": 176,
   "metadata": {},
   "outputs": [
    {
     "name": "stdout",
     "output_type": "stream",
     "text": [
      "Zeta 0.6901067305598216 wn 289.8102440440741\n",
      "Required dominant poles (-200.00000000000003+209.73787820249777j), (-200.00000000000003-209.73787820249777j)\n"
     ]
    }
   ],
   "source": [
    "Mp, ts = 5, 0.02\n",
    "zeta,wn = get_params(Mp,ts)\n",
    "print(f\"Zeta {zeta} wn {wn}\")\n",
    "p1,p2 = get_poles(zeta,wn)\n",
    "print(f\"Required dominant poles {p1}, {p2}\")"
   ]
  },
  {
   "cell_type": "markdown",
   "metadata": {},
   "source": [
    "## Part a\n",
    "\n",
    "This is feasible if (-200.00 +/- 209.737j) lies on the root locus, as dominant poles."
   ]
  },
  {
   "cell_type": "code",
   "execution_count": 177,
   "metadata": {},
   "outputs": [
    {
     "name": "stdout",
     "output_type": "stream",
     "text": [
      "System open loop is \n",
      "    240 s + 240\n",
      "-------------------\n",
      "s^3 + 10 s^2 + 24 s\n",
      "\n"
     ]
    }
   ],
   "source": [
    "sys = control.TransferFunction([240,240],[1,10,24,0])\n",
    "print(f\"System open loop is {sys}\")"
   ]
  },
  {
   "cell_type": "code",
   "execution_count": 178,
   "metadata": {},
   "outputs": [
    {
     "data": {
      "image/png": "[encoded data removed]",
      "text/plain": [
       "<Figure size 432x288 with 1 Axes>"
      ]
     },
     "metadata": {},
     "output_type": "display_data"
    }
   ],
   "source": [
    "control.root_locus(sys);"
   ]
  },
  {
   "cell_type": "markdown",
   "metadata": {},
   "source": [
    "Hence choice 1 is not feasible.\n",
    "\n",
    "## Part b\n",
    "\n",
    "We first analyse the existent system, understand if the transient parameters need improvement or the steady state. We then desgin appropriately, with the dominant pole assumption.\n",
    "\n",
    "With $􏰍 G_c(s)=K_c \\alpha* (1 + Ts)/(1+\\alpha*Ts)$.\n",
    "\n",
    "Needed $K_v$ is 100 (1% error).\n",
    "Current $K_v$ is 10. \n",
    "\n",
    "Hence, $K_c * \\alpha = 10$.\n",
    "\n",
    "We determine $\\theta$, angle of compensation needed at (-200, +/- 209.73)"
   ]
  },
  {
   "cell_type": "code",
   "execution_count": 179,
   "metadata": {},
   "outputs": [
    {
     "data": {
      "text/plain": [
       "1.596108226418121"
      ]
     },
     "execution_count": 179,
     "metadata": {},
     "output_type": "execute_result"
    }
   ],
   "source": [
    "polar(control.evalfr(sys, complex(200,-209.73)))[1] "
   ]
  },
  {
   "cell_type": "code",
   "execution_count": 180,
   "metadata": {},
   "outputs": [
    {
     "data": {
      "text/plain": [
       "1.5454844271716721"
      ]
     },
     "execution_count": 180,
     "metadata": {},
     "output_type": "execute_result"
    }
   ],
   "source": [
    "np.pi - 1.596108226418121"
   ]
  },
  {
   "cell_type": "markdown",
   "metadata": {},
   "source": [
    "We need -88.54 deg as compensation.\n",
    "\n",
    "Besides this, we need to meet:\n",
    "\n",
    "* Angle sum = $\\pi$\n",
    "* Magnitude at roots = 1\n",
    "* $K_c * \\alpha = 10$\n",
    "\n",
    "We treat this as a lead compensation case."
   ]
  },
  {
   "cell_type": "code",
   "execution_count": 209,
   "metadata": {},
   "outputs": [
    {
     "name": "stdout",
     "output_type": "stream",
     "text": [
      "Gamma 22.54441156486525\n",
      "Alpha 0.183975416417848\n",
      "Kc 752.8216104925237\n"
     ]
    }
   ],
   "source": [
    "phi = 85.97404456267036 * np.pi/180\n",
    "theta = np.arccos(zeta)\n",
    "gamma = (1.596108226418121 - theta)/2\n",
    "print(f\"Gamma {gamma * 180/np.pi}\")\n",
    "alpha = get_alpha(gamma = gamma, phi = phi, theta = theta)\n",
    "print(f\"Alpha {alpha}\")\n",
    "temp_sys = alpha * control.TransferFunction([T,1],[T*alpha, 1]) * sys\n",
    "Kc = 1/polar(control.evalfr(temp_sys,complex(-200,209.73)))[0]\n",
    "print(f\"Kc {Kc}\")"
   ]
  },
  {
   "cell_type": "markdown",
   "metadata": {},
   "source": [
    "To determine $T$, we use the magnitude condition."
   ]
  },
  {
   "cell_type": "code",
   "execution_count": 197,
   "metadata": {},
   "outputs": [
    {
     "name": "stdout",
     "output_type": "stream",
     "text": [
      "Current magnitude without compensator at requisite roots 0.002919450489681809\n"
     ]
    }
   ],
   "source": [
    "cur_mag = polar(control.evalfr(sys, complex(-200,209.73)))[0]\n",
    "print(f\"Current magnitude without compensator at requisite roots {cur_mag}\")"
   ]
  },
  {
   "cell_type": "code",
   "execution_count": 183,
   "metadata": {},
   "outputs": [
    {
     "name": "stdout",
     "output_type": "stream",
     "text": [
      "Z_c 119.09350502020902\n",
      "T 0.00839676353324482\n"
     ]
    }
   ],
   "source": [
    "zc = get_zc(wn, gamma = gamma, theta = theta)\n",
    "print(f\"Z_c {zc}\")\n",
    "T = 1/zc\n",
    "print(f\"T {T}\")"
   ]
  },
  {
   "cell_type": "code",
   "execution_count": 203,
   "metadata": {},
   "outputs": [
    {
     "name": "stdout",
     "output_type": "stream",
     "text": [
      "Solved parameters : \n",
      "\n",
      "Alpha 0.183975416417848\n",
      "Kc 54.355088275967454\n",
      "T 0.00839676353324482\n"
     ]
    }
   ],
   "source": [
    "print(\"Solved parameters : \\n\")\n",
    "print(f\"Alpha {alpha}\")\n",
    "print(f\"Kc {Kc}\")\n",
    "print(f\"T {T}\")"
   ]
  },
  {
   "cell_type": "markdown",
   "metadata": {},
   "source": [
    "## Part 3\n",
    "\n",
    "We perform a grid search, while looking for the following:\n",
    "\n",
    "* Angle sum = $\\pi$\n",
    "* Magnitude at roots = 1\n",
    "* $K_c * \\alpha = 10$\n",
    "\n",
    "We keep varying $\\alpha$ and $T$.\n",
    "\n",
    "We try:\n",
    "\n",
    "* grid search\n",
    "* gradient descent"
   ]
  },
  {
   "cell_type": "code",
   "execution_count": 216,
   "metadata": {},
   "outputs": [
    {
     "name": "stdout",
     "output_type": "stream",
     "text": [
      "Loss 1.884514472694221e-06 a_min 0.16690000000000194 t_min 0.0077\n",
      "Angle loss 1.884514472694221e-06\n",
      "Mag loss 32.09852385559125\n"
     ]
    }
   ],
   "source": [
    "aa = np.arange(0.1,2.0,(0.2-0.1)/1000)\n",
    "tt = np.arange(0, 0.01, 0.01/100)\n",
    "ll = [] # loss array\n",
    "\n",
    "def loss1(a,t, pole = complex(-200,209.73)):\n",
    "    '''\n",
    "    Angle compensation\n",
    "    '''\n",
    "    diff = polar(1 + t*pole)[1] - polar(1 + a*t*pole)[1] - 1.5454844271716721\n",
    "    diff = np.abs(diff)\n",
    "    return diff\n",
    "\n",
    "def loss2(a,t, pole = complex(-200,209.73)):\n",
    "    '''\n",
    "    Magnitude compensation\n",
    "    '''\n",
    "    diff = polar(1 + t*pole)[0] / polar(1 + a*t*pole)[0] - 1/(10*cur_mag)\n",
    "    return np.abs(diff)\n",
    "\n",
    "def loss(a,t, pole = complex(-200,209.73)):\n",
    "    return loss1(a,t, pole) + 0*loss2(a,t,pole)\n",
    "\n",
    "l_min = None\n",
    "a_min = None\n",
    "t_min = None\n",
    "\n",
    "for a in aa:\n",
    "    for t in tt:\n",
    "        l = loss(a,t)\n",
    "        if not l_min or (l_min > l):\n",
    "            l_min = l\n",
    "            a_min = a\n",
    "            t_min = t\n",
    "        ll.append(loss)\n",
    "        \n",
    "print(f\"Loss {l_min} a_min {a_min} t_min {t_min}\")\n",
    "print(f\"Angle loss {loss1(a_min,t_min)}\")\n",
    "#print(f\"Mag loss {loss2(a_min, t_min)}\")"
   ]
  },
  {
   "cell_type": "markdown",
   "metadata": {},
   "source": [
    "## Part 4,5 with Part 2\n",
    "\n",
    "Clearly, we have used a lead compensator.\n",
    "\n",
    "The compensated transfer function is:"
   ]
  },
  {
   "cell_type": "code",
   "execution_count": 210,
   "metadata": {},
   "outputs": [
    {
     "name": "stdout",
     "output_type": "stream",
     "text": [
      "Compensator \n",
      "1.163 s + 138.5\n",
      "---------------\n",
      "0.001545 s + 1\n",
      "\n",
      "Final Sys \n",
      "    279.1 s^2 + 3.352e+04 s + 3.324e+04\n",
      "-------------------------------------------\n",
      "0.001545 s^4 + 1.015 s^3 + 10.04 s^2 + 24 s\n",
      "\n"
     ]
    }
   ],
   "source": [
    "comp = Kc * alpha * control.TransferFunction([T,1],[T*alpha, 1])\n",
    "print(f\"Compensator {comp}\")\n",
    "comp_sys = sys* comp\n",
    "print(f\"Final Sys {comp_sys}\")"
   ]
  },
  {
   "cell_type": "markdown",
   "metadata": {},
   "source": [
    "The transient responses associated with this are:"
   ]
  },
  {
   "cell_type": "code",
   "execution_count": 212,
   "metadata": {},
   "outputs": [
    {
     "data": {
      "text/plain": [
       "[<matplotlib.lines.Line2D at 0x1c23ec5b00>]"
      ]
     },
     "execution_count": 212,
     "metadata": {},
     "output_type": "execute_result"
    },
    {
     "data": {
      "image/png": "[encoded data removed]",
      "text/plain": [
       "<Figure size 432x288 with 1 Axes>"
      ]
     },
     "metadata": {},
     "output_type": "display_data"
    }
   ],
   "source": [
    "tt, yy = control.step_response(control.feedback(comp_sys), T = np.arange(0,0.1,0.04/100))\n",
    "plt.plot(tt,yy)"
   ]
  },
  {
   "cell_type": "markdown",
   "metadata": {},
   "source": [
    "## Part 4,5 with Part 3\n",
    "\n",
    "Clearly, we have used a lead compensator.\n",
    "\n",
    "The compensated transfer function is:\n"
   ]
  },
  {
   "cell_type": "code",
   "execution_count": 217,
   "metadata": {},
   "outputs": [
    {
     "name": "stdout",
     "output_type": "stream",
     "text": [
      "Compensator \n",
      "1.224 s + 159\n",
      "--------------\n",
      "0.001285 s + 1\n",
      "\n",
      "Final Sys \n",
      "    293.8 s^2 + 3.845e+04 s + 3.816e+04\n",
      "-------------------------------------------\n",
      "0.001285 s^4 + 1.013 s^3 + 10.03 s^2 + 24 s\n",
      "\n"
     ]
    }
   ],
   "source": [
    "temp_sys = a_min * control.TransferFunction([t_min,1],[t_min*a_min, 1]) * sys\n",
    "Kc = 1/polar(control.evalfr(temp_sys,complex(-200,209.73)))[0]\n",
    "\n",
    "comp2 = Kc * a_min * control.TransferFunction([t_min,1],[t_min*a_min, 1])\n",
    "print(f\"Compensator {comp2}\")\n",
    "comp_sys2 = sys* comp2\n",
    "print(f\"Final Sys {comp_sys2}\")"
   ]
  },
  {
   "cell_type": "code",
   "execution_count": 219,
   "metadata": {},
   "outputs": [
    {
     "data": {
      "text/plain": [
       "[<matplotlib.lines.Line2D at 0x1c251d9b70>]"
      ]
     },
     "execution_count": 219,
     "metadata": {},
     "output_type": "execute_result"
    },
    {
     "data": {
      "image/png": "[encoded data removed]",
      "text/plain": [
       "<Figure size 432x288 with 1 Axes>"
      ]
     },
     "metadata": {},
     "output_type": "display_data"
    }
   ],
   "source": [
    "tt, yy = control.step_response(control.feedback(comp_sys2), T = np.arange(0,0.05,0.04/100))\n",
    "plt.plot(tt,yy)"
   ]
  },
  {
   "cell_type": "markdown",
   "metadata": {},
   "source": [
    "Which has a much smaller $T_s$. We also note that in the above two cases, no lag compensation is needed, since the $K_v$ obtained is good enough."
   ]
  }
 ],
 "metadata": {
  "kernelspec": {
   "display_name": "Python 3",
   "language": "python",
   "name": "python3"
  },
  "language_info": {
   "codemirror_mode": {
    "name": "ipython",
    "version": 3
   },
   "file_extension": ".py",
   "mimetype": "text/x-python",
   "name": "python",
   "nbconvert_exporter": "python",
   "pygments_lexer": "ipython3",
   "version": "3.6.5"
  }
 },
 "nbformat": 4,
 "nbformat_minor": 2
}
