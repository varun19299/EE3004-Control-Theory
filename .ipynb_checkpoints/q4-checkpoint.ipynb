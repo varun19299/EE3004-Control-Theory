{
 "cells": [
  {
   "cell_type": "markdown",
   "metadata": {},
   "source": [
    "# Question 4"
   ]
  },
  {
   "cell_type": "code",
   "execution_count": 180,
   "metadata": {},
   "outputs": [],
   "source": [
    "import numpy as np\n",
    "import math\n",
    "import scipy\n",
    "from control.matlab import *\n",
    "import control as cont\n",
    "import matplotlib.pyplot as plt\n",
    "pie=np.pi"
   ]
  },
  {
   "cell_type": "markdown",
   "metadata": {},
   "source": [
    "Stepinfo function which gives all the useful information like overshoot, rise time and settle time from the response function"
   ]
  },
  {
   "cell_type": "code",
   "execution_count": 195,
   "metadata": {
    "collapsed": true
   },
   "outputs": [],
   "source": [
    "def stepinfo(t,yout):\n",
    "    print (\"OS\",(yout.max()/yout[-1]-1)*100,'%')\n",
    "    print (\"Tr\",t[next(i for i in range(0,len(yout)-1) if yout[i]>yout[-1]*.90)]-t[0])\n",
    "    print (\"Ts\",t[next(len(yout)-i for i in range(2,len(yout)-1) if abs(yout[-i]/yout[-1])>1.02)]-t[0])"
   ]
  },
  {
   "cell_type": "code",
   "execution_count": 3,
   "metadata": {
    "collapsed": true
   },
   "outputs": [],
   "source": [
    "M=10\n",
    "ts=2"
   ]
  },
  {
   "cell_type": "markdown",
   "metadata": {},
   "source": [
    "Calculating tau and wn from formulas\n",
    "$$M=100e^{\\frac{-\\zeta \\pi}{\\sqrt{1-\\zeta^{2}}}}$$\n",
    "$$ts=\\frac{4}{\\zeta \\omega_{n}}$$"
   ]
  },
  {
   "cell_type": "code",
   "execution_count": 4,
   "metadata": {
    "collapsed": true
   },
   "outputs": [],
   "source": [
    "tau=np.sqrt(np.log(M/100)**2/(np.log(M/100)**2+pie**2))\n",
    "wn=4/(tau*ts)"
   ]
  },
  {
   "cell_type": "markdown",
   "metadata": {},
   "source": [
    "Calculating gamma and omega from the formulas\n",
    "$$\\gamma=\\tan^{-1} \\frac{2\\zeta}{\\sqrt{\\sqrt{1+4\\zeta^{4}}-2\\zeta^{2}}}$$\n",
    "$$\\omega_{gc}=\\omega_{n}{\\sqrt{\\sqrt{1+4\\zeta^{4}}-2\\zeta^{2}}}$$"
   ]
  },
  {
   "cell_type": "code",
   "execution_count": 138,
   "metadata": {},
   "outputs": [
    {
     "name": "stdout",
     "output_type": "stream",
     "text": [
      "58.593068265 2.44227471013\n"
     ]
    }
   ],
   "source": [
    "gamma=np.arctan(2*tau/np.sqrt(np.sqrt(1+4*tau**4)-2*tau**2))*180/pie\n",
    "wgc=wn*np.sqrt(np.sqrt(1+4*tau**4)-2*tau**2)\n",
    "print(gamma,wgc)"
   ]
  },
  {
   "cell_type": "code",
   "execution_count": 8,
   "metadata": {},
   "outputs": [
    {
     "name": "stdout",
     "output_type": "stream",
     "text": [
      "3.38320725639\n"
     ]
    }
   ],
   "source": [
    "print(wn)"
   ]
  },
  {
   "cell_type": "code",
   "execution_count": 140,
   "metadata": {},
   "outputs": [
    {
     "name": "stdout",
     "output_type": "stream",
     "text": [
      "\n",
      "                    100 s^2 + 101 s + 1\n",
      "----------------------------------------------------------\n",
      "s^5 + 12.02 s^4 + 22.25 s^3 + 20.56 s^2 + 0.6222 s + 0.202\n",
      "\n"
     ]
    }
   ],
   "source": [
    "(num,den)=zpk2tf([-1,-0.01],[-10],100)\n",
    "den1=tf([1],[1,2,2])\n",
    "den2=tf([1],[1,0.02,0.0101])\n",
    "H=tf(num,den)\n",
    "H=H*den1*den2\n",
    "print(H)"
   ]
  },
  {
   "cell_type": "markdown",
   "metadata": {},
   "source": [
    "## Bode Plot of H"
   ]
  },
  {
   "cell_type": "code",
   "execution_count": 141,
   "metadata": {},
   "outputs": [
    {
     "data": {
      "image/png": "[encoded data removed]",
      "text/plain": [
       "<matplotlib.figure.Figure at 0x1c81cdf26a0>"
      ]
     },
     "metadata": {},
     "output_type": "display_data"
    }
   ],
   "source": [
    "bode(H)\n",
    "plt.show()"
   ]
  },
  {
   "cell_type": "code",
   "execution_count": 150,
   "metadata": {},
   "outputs": [
    {
     "name": "stdout",
     "output_type": "stream",
     "text": [
      "1.21466256696 3.78571028107 3.43597805217 3.13444412728\n"
     ]
    }
   ],
   "source": [
    "[gm,pm,wg,wm]=margin(H)\n",
    "print (gm,pm,wg,wm)"
   ]
  },
  {
   "cell_type": "markdown",
   "metadata": {},
   "source": [
    "Phase Margin=3.78"
   ]
  },
  {
   "cell_type": "code",
   "execution_count": 151,
   "metadata": {},
   "outputs": [
    {
     "name": "stdout",
     "output_type": "stream",
     "text": [
      "54.8073579839 3.13444412728\n"
     ]
    }
   ],
   "source": [
    "phi=gamma-pm\n",
    "wm=wm\n",
    "print(phi,wm)"
   ]
  },
  {
   "cell_type": "code",
   "execution_count": 152,
   "metadata": {},
   "outputs": [
    {
     "name": "stdout",
     "output_type": "stream",
     "text": [
      "0.100582863511\n"
     ]
    }
   ],
   "source": [
    "alpha=(1-np.sin(phi*pie/180))/(1+np.sin(phi*pie/180))\n",
    "print(alpha)"
   ]
  },
  {
   "cell_type": "code",
   "execution_count": 145,
   "metadata": {},
   "outputs": [
    {
     "name": "stdout",
     "output_type": "stream",
     "text": [
      "1.00595248891\n"
     ]
    }
   ],
   "source": [
    "T=1/np.sqrt(alpha)/wm\n",
    "print(T)"
   ]
  },
  {
   "cell_type": "code",
   "execution_count": 146,
   "metadata": {},
   "outputs": [
    {
     "name": "stdout",
     "output_type": "stream",
     "text": [
      "\n",
      "                      100.6 s^3 + 201.6 s^2 + 102 s + 1\n",
      "-----------------------------------------------------------------------------\n",
      "0.1012 s^6 + 2.216 s^5 + 14.27 s^4 + 24.33 s^3 + 20.62 s^2 + 0.6426 s + 0.202\n",
      "\n"
     ]
    }
   ],
   "source": [
    "Gc=tf([T,1],[alpha*T,1])\n",
    "Hnew=H*Gc\n",
    "print(Hnew)"
   ]
  },
  {
   "cell_type": "code",
   "execution_count": 147,
   "metadata": {},
   "outputs": [
    {
     "data": {
      "image/png": "[encoded data removed]",
      "text/plain": [
       "<matplotlib.figure.Figure at 0x1c81ea48710>"
      ]
     },
     "metadata": {},
     "output_type": "display_data"
    },
    {
     "name": "stdout",
     "output_type": "stream",
     "text": [
      "20.8235957026 6.91541348347\n"
     ]
    }
   ],
   "source": [
    "bode(Hnew)\n",
    "plt.show()\n",
    "[gm,pm2,wg,wm2]=margin(Hnew)\n",
    "print(pm2,wm2)"
   ]
  },
  {
   "cell_type": "code",
   "execution_count": 148,
   "metadata": {},
   "outputs": [
    {
     "name": "stdout",
     "output_type": "stream",
     "text": [
      "54.8073579839\n"
     ]
    }
   ],
   "source": [
    "print(phi)"
   ]
  },
  {
   "cell_type": "markdown",
   "metadata": {},
   "source": [
    "Since there is a huge difference between the phase margin and the desired value, we increment phi by 50 degrees"
   ]
  },
  {
   "cell_type": "code",
   "execution_count": 161,
   "metadata": {},
   "outputs": [
    {
     "name": "stdout",
     "output_type": "stream",
     "text": [
      "104.807357984\n"
     ]
    }
   ],
   "source": [
    "phi_one=phi+50\n",
    "print(phi_one)"
   ]
  },
  {
   "cell_type": "code",
   "execution_count": 162,
   "metadata": {},
   "outputs": [
    {
     "name": "stdout",
     "output_type": "stream",
     "text": [
      "0.0168850839454\n"
     ]
    }
   ],
   "source": [
    "alpha_one=(1-np.sin(phi_one*pie/180))/(1+np.sin(phi_one*pie/180))\n",
    "print(alpha_one)"
   ]
  },
  {
   "cell_type": "code",
   "execution_count": 163,
   "metadata": {},
   "outputs": [
    {
     "name": "stdout",
     "output_type": "stream",
     "text": [
      "17.724967759\n"
     ]
    }
   ],
   "source": [
    "magi=20*np.log(1/np.sqrt(alpha_one))/np.log(10)\n",
    "print(magi)"
   ]
  },
  {
   "cell_type": "code",
   "execution_count": 164,
   "metadata": {},
   "outputs": [
    {
     "name": "stdout",
     "output_type": "stream",
     "text": [
      "0.129942617895\n"
     ]
    }
   ],
   "source": [
    "magii=np.sqrt(alpha_one)\n",
    "print(magii)"
   ]
  },
  {
   "cell_type": "markdown",
   "metadata": {},
   "source": [
    "To calculate the frequency at which magnitude is square root of alpha, we find the gain crossover frequency of the transfer function H/square root of alpha"
   ]
  },
  {
   "cell_type": "code",
   "execution_count": 165,
   "metadata": {},
   "outputs": [
    {
     "name": "stdout",
     "output_type": "stream",
     "text": [
      "7.81682027786\n"
     ]
    }
   ],
   "source": [
    "[gm1,pm1,wm1,wg1]=margin(H/magii)\n",
    "print(wg1)"
   ]
  },
  {
   "cell_type": "code",
   "execution_count": 166,
   "metadata": {},
   "outputs": [
    {
     "name": "stdout",
     "output_type": "stream",
     "text": [
      "0.984505759245\n"
     ]
    }
   ],
   "source": [
    "T_1=1/np.sqrt(alpha_one)/wg1\n",
    "print(T_1)"
   ]
  },
  {
   "cell_type": "code",
   "execution_count": 167,
   "metadata": {},
   "outputs": [
    {
     "name": "stdout",
     "output_type": "stream",
     "text": [
      "\n",
      "                      98.45 s^3 + 199.4 s^2 + 102 s + 1\n",
      "----------------------------------------------------------------------------\n",
      "0.01662 s^6 + 1.2 s^5 + 12.39 s^4 + 22.59 s^3 + 20.57 s^2 + 0.6256 s + 0.202\n",
      "\n"
     ]
    }
   ],
   "source": [
    "Gc_one=tf([T_1,1],[alpha_one*T_1,1])\n",
    "Hnew_one=Gc_one*H\n",
    "print(Hnew_one)"
   ]
  },
  {
   "cell_type": "code",
   "execution_count": 169,
   "metadata": {},
   "outputs": [
    {
     "data": {
      "image/png": "[encoded data removed]",
      "text/plain": [
       "<matplotlib.figure.Figure at 0x1c81cce0978>"
      ]
     },
     "metadata": {},
     "output_type": "display_data"
    },
    {
     "name": "stdout",
     "output_type": "stream",
     "text": [
      "44.7780004227 7.81682027786\n"
     ]
    }
   ],
   "source": [
    "bode(Hnew_one)\n",
    "plt.show()\n",
    "[gm2,pm2,wm2,wg2]=margin(Hnew_one)\n",
    "print(pm2,wg2)"
   ]
  },
  {
   "cell_type": "markdown",
   "metadata": {},
   "source": [
    "## Step Response of Closed Loop System"
   ]
  },
  {
   "cell_type": "code",
   "execution_count": 199,
   "metadata": {},
   "outputs": [
    {
     "data": {
      "image/png": "[encoded data removed]",
      "text/plain": [
       "<matplotlib.figure.Figure at 0x1c81d1e7e48>"
      ]
     },
     "metadata": {},
     "output_type": "display_data"
    },
    {
     "name": "stdout",
     "output_type": "stream",
     "text": [
      "OS 26.0071700658 %\n",
      "Tr 0.21402140214\n",
      "Ts 8.53085308531\n"
     ]
    }
   ],
   "source": [
    "T, yout = cont.step_response(feedback(Hnew_one,1), np.linspace(0,20,10000))\n",
    "plt.plot(T,yout*10)\n",
    "plt.show()\n",
    "stepinfo(T,yout*10)"
   ]
  },
  {
   "cell_type": "code",
   "execution_count": null,
   "metadata": {
    "collapsed": true
   },
   "outputs": [],
   "source": []
  },
  {
   "cell_type": "code",
   "execution_count": null,
   "metadata": {
    "collapsed": true
   },
   "outputs": [],
   "source": []
  },
  {
   "cell_type": "code",
   "execution_count": null,
   "metadata": {
    "collapsed": true
   },
   "outputs": [],
   "source": []
  },
  {
   "cell_type": "code",
   "execution_count": null,
   "metadata": {
    "collapsed": true
   },
   "outputs": [],
   "source": []
  }
 ],
 "metadata": {
  "kernelspec": {
   "display_name": "Python 3",
   "language": "python",
   "name": "python3"
  },
  "language_info": {
   "codemirror_mode": {
    "name": "ipython",
    "version": 3
   },
   "file_extension": ".py",
   "mimetype": "text/x-python",
   "name": "python",
   "nbconvert_exporter": "python",
   "pygments_lexer": "ipython3",
   "version": "3.6.3"
  }
 },
 "nbformat": 4,
 "nbformat_minor": 2
}
