{
 "cells": [
  {
   "cell_type": "code",
   "execution_count": 3,
   "metadata": {},
   "outputs": [],
   "source": [
    "import numpy as np\n",
    "import math\n",
    "import scipy\n",
    "from control.matlab import *\n",
    "import matplotlib.pyplot as plt\n",
    "pie=np.pi"
   ]
  },
  {
   "cell_type": "code",
   "execution_count": 91,
   "metadata": {
    "collapsed": true
   },
   "outputs": [],
   "source": [
    "Mp=10\n",
    "Ts=5"
   ]
  },
  {
   "cell_type": "code",
   "execution_count": 92,
   "metadata": {},
   "outputs": [
    {
     "name": "stdout",
     "output_type": "stream",
     "text": [
      "(-0.8+1.0915010830734728j) (-0.8+1.0915010830734728j)\n",
      "53.7609841884 1.35328290256\n"
     ]
    }
   ],
   "source": [
    "real=-(4.0/Ts)\n",
    "imag=4*pie/(Ts*np.log(100/Mp))\n",
    "pole1=complex(real,imag)\n",
    "pole2=complex(real,imag)\n",
    "theta=180-np.angle(pole1,deg=True)\n",
    "wn=np.abs(pole1)\n",
    "print (pole1,pole2)\n",
    "print(theta,wn)"
   ]
  },
  {
   "cell_type": "code",
   "execution_count": 93,
   "metadata": {},
   "outputs": [
    {
     "name": "stdout",
     "output_type": "stream",
     "text": [
      "\n",
      "   1\n",
      "-------\n",
      "s^2 + s\n",
      "\n"
     ]
    }
   ],
   "source": [
    "(num,den)=zpk2tf([],[0,-1],1)\n",
    "H=tf(num,den)\n",
    "print(H)"
   ]
  },
  {
   "cell_type": "code",
   "execution_count": 94,
   "metadata": {},
   "outputs": [
    {
     "data": {
      "image/png": "[encoded data removed]",
      "text/plain": [
       "<matplotlib.figure.Figure at 0x1e7ecefa400>"
      ]
     },
     "metadata": {},
     "output_type": "display_data"
    }
   ],
   "source": [
    "rlocus(H)\n",
    "plt.show()"
   ]
  },
  {
   "cell_type": "code",
   "execution_count": 95,
   "metadata": {},
   "outputs": [
    {
     "name": "stdout",
     "output_type": "stream",
     "text": [
      "154.14433004\n"
     ]
    }
   ],
   "source": [
    "anl=np.angle(evalfr(H,pole1),deg=True)\n",
    "print (anl)"
   ]
  },
  {
   "cell_type": "code",
   "execution_count": 28,
   "metadata": {},
   "outputs": [
    {
     "name": "stdout",
     "output_type": "stream",
     "text": [
      "205.85566996\n"
     ]
    }
   ],
   "source": [
    "th=np.angle(pole1+1,deg=True)+np.angle(pole1,deg=True)\n",
    "print(th)"
   ]
  },
  {
   "cell_type": "code",
   "execution_count": 29,
   "metadata": {},
   "outputs": [
    {
     "name": "stdout",
     "output_type": "stream",
     "text": [
      "25.8556699598\n"
     ]
    }
   ],
   "source": [
    "phi=-180+th\n",
    "print(phi)"
   ]
  },
  {
   "cell_type": "code",
   "execution_count": 39,
   "metadata": {},
   "outputs": [
    {
     "name": "stdout",
     "output_type": "stream",
     "text": [
      "53.7609841884\n"
     ]
    }
   ],
   "source": [
    "theta=180-np.angle(pole1,deg=True)\n",
    "print(theta)"
   ]
  },
  {
   "cell_type": "code",
   "execution_count": 40,
   "metadata": {},
   "outputs": [
    {
     "name": "stdout",
     "output_type": "stream",
     "text": [
      "50.1916729259\n"
     ]
    }
   ],
   "source": [
    "gamma=0.5*(180-theta-phi)\n",
    "print(gamma)"
   ]
  },
  {
   "cell_type": "code",
   "execution_count": 41,
   "metadata": {},
   "outputs": [
    {
     "name": "stdout",
     "output_type": "stream",
     "text": [
      "0.626543142748\n"
     ]
    }
   ],
   "source": [
    "alpha=np.sin(gamma*pie/180)*np.sin((theta+gamma+phi)*pie/180)/np.sin((theta+gamma)*pie/180)/np.sin((gamma+phi)*pie/180)\n",
    "print(alpha)"
   ]
  },
  {
   "cell_type": "code",
   "execution_count": 43,
   "metadata": {},
   "outputs": [
    {
     "name": "stdout",
     "output_type": "stream",
     "text": [
      "1.0711840208 1.7096732016\n"
     ]
    }
   ],
   "source": [
    "zc=wn*np.sin(gamma*pie/180)/np.sin((theta+gamma)*pie/180)\n",
    "pc=zc/alpha\n",
    "print (zc,pc)"
   ]
  },
  {
   "cell_type": "code",
   "execution_count": 44,
   "metadata": {},
   "outputs": [
    {
     "name": "stdout",
     "output_type": "stream",
     "text": [
      "\n",
      "       s + 1.071\n",
      "-----------------------\n",
      "s^3 + 2.71 s^2 + 1.71 s\n",
      "\n"
     ]
    }
   ],
   "source": [
    "Hcont=tf([1,zc],[1,pc])\n",
    "Hnew=H*Hcont\n",
    "print(Hnew)"
   ]
  },
  {
   "cell_type": "code",
   "execution_count": 56,
   "metadata": {},
   "outputs": [
    {
     "data": {
      "image/png": "[encoded data removed]",
      "text/plain": [
       "<matplotlib.figure.Figure at 0x1e7eb96af60>"
      ]
     },
     "metadata": {},
     "output_type": "display_data"
    }
   ],
   "source": [
    "rlocus(Hnew)\n",
    "plt.show()"
   ]
  },
  {
   "cell_type": "code",
   "execution_count": 75,
   "metadata": {},
   "outputs": [
    {
     "name": "stdout",
     "output_type": "stream",
     "text": [
      "-180.0\n",
      "1.89717853531\n",
      "\n",
      "    1.897 s + 2.032\n",
      "-----------------------\n",
      "s^3 + 2.71 s^2 + 1.71 s\n",
      "\n"
     ]
    }
   ],
   "source": [
    "mag=np.abs(evalfr(Hnew,pole1))\n",
    "phase=np.angle(evalfr(Hnew,pole1),deg=True)\n",
    "print (phase)\n",
    "K=1.0/mag\n",
    "print(K)\n",
    "Hlead=K*Hnew\n",
    "print(Hlead)"
   ]
  },
  {
   "cell_type": "code",
   "execution_count": 50,
   "metadata": {},
   "outputs": [
    {
     "name": "stdout",
     "output_type": "stream",
     "text": [
      "1.18866420187\n"
     ]
    }
   ],
   "source": [
    "Kv=K*zc/pc\n",
    "print (Kv)"
   ]
  },
  {
   "cell_type": "code",
   "execution_count": 54,
   "metadata": {},
   "outputs": [
    {
     "data": {
      "image/png": "[encoded data removed]",
      "text/plain": [
       "<matplotlib.figure.Figure at 0x1e7eb971f28>"
      ]
     },
     "metadata": {},
     "output_type": "display_data"
    }
   ],
   "source": [
    "T=linspace(0,10,1000)\n",
    "(y,T)=step(Hlead/(1+Hlead),T)\n",
    "plt.plot(T,y)\n",
    "plt.show()"
   ]
  },
  {
   "cell_type": "code",
   "execution_count": 71,
   "metadata": {},
   "outputs": [],
   "source": [
    "def stepinfo(t,yout):\n",
    "    print (\"OS\",(yout.max()/yout[-1]-1)*100,'%')\n",
    "    print (\"Tr\",t[next(i for i in range(0,len(yout)-1) if yout[i]>yout[-1]*.90)]-t[0])\n",
    "    print (\"Ts\",t[next(len(yout)-i for i in range(2,len(yout)-1) if abs(yout[-i]/yout[-1])>1.02)]-t[0])"
   ]
  },
  {
   "cell_type": "code",
   "execution_count": 72,
   "metadata": {},
   "outputs": [
    {
     "name": "stdout",
     "output_type": "stream",
     "text": [
      "OS 10.7082202491 %\n",
      "Tr 1.69169169169\n",
      "Ts 4.36436436436\n"
     ]
    }
   ],
   "source": [
    "stepinfo(T,y)"
   ]
  },
  {
   "cell_type": "markdown",
   "metadata": {},
   "source": [
    "## Alpha*Beta=1"
   ]
  },
  {
   "cell_type": "code",
   "execution_count": 80,
   "metadata": {},
   "outputs": [
    {
     "name": "stdout",
     "output_type": "stream",
     "text": [
      "\n",
      "      1.897 s^2 + 2.127 s + 0.1016\n",
      "---------------------------------------\n",
      "s^4 + 2.741 s^3 + 1.795 s^2 + 0.05356 s\n",
      "\n"
     ]
    }
   ],
   "source": [
    "beta=1.0/alpha\n",
    "zg=0.05\n",
    "pg=zg/beta\n",
    "Hlag=tf([1,zg],[1,pg])\n",
    "Hleadlag=Hlead*Hlag\n",
    "print (Hleadlag)"
   ]
  },
  {
   "cell_type": "code",
   "execution_count": 89,
   "metadata": {},
   "outputs": [
    {
     "data": {
      "image/png": "[encoded data removed]",
      "text/plain": [
       "<matplotlib.figure.Figure at 0x1e7ed536978>"
      ]
     },
     "metadata": {},
     "output_type": "display_data"
    },
    {
     "name": "stdout",
     "output_type": "stream",
     "text": [
      "OS 11.3854569301 %\n",
      "Tr 1.69169169169\n",
      "Ts 4.46446446446\n",
      "Kv: 20.0\n"
     ]
    },
    {
     "data": {
      "image/png": "[encoded data removed]",
      "text/plain": [
       "<matplotlib.figure.Figure at 0x1e7ed5417b8>"
      ]
     },
     "metadata": {},
     "output_type": "display_data"
    }
   ],
   "source": [
    "T=linspace(0,10,1000)\n",
    "(y,T)=step(Hleadlag/(1+Hleadlag),T)\n",
    "plt.plot(T,y)\n",
    "plt.show()\n",
    "stepinfo(T,y)\n",
    "print (\"Kv:\",Kv*beta)\n",
    "rlocus(Hleadlag)\n",
    "plt.show()"
   ]
  },
  {
   "cell_type": "markdown",
   "metadata": {},
   "source": [
    "## Independent Lead Lag"
   ]
  },
  {
   "cell_type": "code",
   "execution_count": 82,
   "metadata": {},
   "outputs": [
    {
     "name": "stdout",
     "output_type": "stream",
     "text": [
      "\n",
      "      1.897 s^2 + 2.127 s + 0.1016\n",
      "---------------------------------------\n",
      "s^4 + 2.741 s^3 + 1.795 s^2 + 0.05356 s\n",
      "\n"
     ]
    }
   ],
   "source": [
    "Kv_desire=20\n",
    "beta=Kv_desire/Kv\n",
    "zg=0.05\n",
    "pg=zg/beta\n",
    "H_lag=tf([1,zg],[1,pg])\n",
    "Hlead_lag=Hlead*Hlag\n",
    "print(Hlead_lag)"
   ]
  },
  {
   "cell_type": "code",
   "execution_count": 85,
   "metadata": {},
   "outputs": [
    {
     "name": "stdout",
     "output_type": "stream",
     "text": [
      "OS 11.3854569301 %\n",
      "Tr 1.69169169169\n",
      "Ts 4.46446446446\n"
     ]
    },
    {
     "data": {
      "image/png": "[encoded data removed]",
      "text/plain": [
       "<matplotlib.figure.Figure at 0x1e7ece31240>"
      ]
     },
     "metadata": {},
     "output_type": "display_data"
    }
   ],
   "source": [
    "T=linspace(0,10,1000)\n",
    "(y,T)=step(Hlead_lag/(1+Hlead_lag),T)\n",
    "plt.plot(T,y)\n",
    "stepinfo(T,y)\n",
    "plt.show()"
   ]
  },
  {
   "cell_type": "code",
   "execution_count": 87,
   "metadata": {},
   "outputs": [
    {
     "name": "stderr",
     "output_type": "stream",
     "text": [
      "C:\\ProgramData\\Anaconda3\\lib\\site-packages\\matplotlib\\cbook\\deprecation.py:106: MatplotlibDeprecationWarning: Adding an axes using the same arguments as a previous axes currently reuses the earlier instance.  In a future version, a new instance will always be created and returned.  Meanwhile, this warning can be suppressed, and the future behavior ensured, by passing a unique label to each axes instance.\n",
      "  warnings.warn(message, mplDeprecation, stacklevel=1)\n"
     ]
    },
    {
     "data": {
      "image/png": "[encoded data removed]",
      "text/plain": [
       "<matplotlib.figure.Figure at 0x1e7ed435470>"
      ]
     },
     "metadata": {},
     "output_type": "display_data"
    }
   ],
   "source": [
    "rlocus(Hleadlag)\n",
    "plt.show()"
   ]
  },
  {
   "cell_type": "code",
   "execution_count": null,
   "metadata": {
    "collapsed": true
   },
   "outputs": [],
   "source": []
  },
  {
   "cell_type": "code",
   "execution_count": null,
   "metadata": {
    "collapsed": true
   },
   "outputs": [],
   "source": []
  },
  {
   "cell_type": "code",
   "execution_count": null,
   "metadata": {
    "collapsed": true
   },
   "outputs": [],
   "source": []
  },
  {
   "cell_type": "code",
   "execution_count": null,
   "metadata": {
    "collapsed": true
   },
   "outputs": [],
   "source": []
  }
 ],
 "metadata": {
  "kernelspec": {
   "display_name": "Python 3",
   "language": "python",
   "name": "python3"
  },
  "language_info": {
   "codemirror_mode": {
    "name": "ipython",
    "version": 3
   },
   "file_extension": ".py",
   "mimetype": "text/x-python",
   "name": "python",
   "nbconvert_exporter": "python",
   "pygments_lexer": "ipython3",
   "version": "3.6.3"
  }
 },
 "nbformat": 4,
 "nbformat_minor": 2
}
