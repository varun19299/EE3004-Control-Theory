{
 "cells": [
  {
   "cell_type": "markdown",
   "metadata": {},
   "source": [
    "# Assignment 5 Report\n",
    "\n",
    "Author : Varun Sundar, EE16B068\n",
    "\n",
    "We use ipython notebooks for the following assignment. The repository includes the relevant pip requirements.\n",
    "\n",
    "Ensure python 3.6 is installed, and run:\n",
    "```\n",
    "pip3 install -r requirements.txt\n",
    "jupyter lab\n",
    "```\n",
    "\n",
    "This should open a browser window with the code snippets.\n",
    "\n",
    "# Question 1"
   ]
  },
  {
   "cell_type": "code",
   "execution_count": 9,
   "metadata": {},
   "outputs": [],
   "source": [
    "import numpy as np\n",
    "import math\n",
    "import scipy\n",
    "from control.matlab import *\n",
    "import matplotlib.pyplot as plt\n",
    "plt.style.use('ggplot')\n",
    "pie=np.pi"
   ]
  },
  {
   "cell_type": "markdown",
   "metadata": {},
   "source": [
    "We design for $M_p = 17$, $T_s = 3$ "
   ]
  },
  {
   "cell_type": "code",
   "execution_count": 10,
   "metadata": {
    "collapsed": true
   },
   "outputs": [],
   "source": [
    "Mp=17\n",
    "Ts=3"
   ]
  },
  {
   "cell_type": "code",
   "execution_count": 11,
   "metadata": {},
   "outputs": [
    {
     "name": "stdout",
     "output_type": "stream",
     "text": [
      "(-1.3333333333333333+2.3639346657109117j) (-1.3333333333333333+2.3639346657109117j)\n",
      "60.57563766283309 2.714031112851792\n"
     ]
    }
   ],
   "source": [
    "real=-(4.0/Ts)\n",
    "imag=4*pie/(Ts*np.log(100/Mp))\n",
    "pole1=complex(real,imag)\n",
    "pole2=complex(real,imag)\n",
    "theta=180-np.angle(pole1,deg=True)\n",
    "wn=np.abs(pole1)\n",
    "print (pole1,pole2)\n",
    "print(theta,wn)"
   ]
  },
  {
   "cell_type": "code",
   "execution_count": 12,
   "metadata": {},
   "outputs": [
    {
     "name": "stdout",
     "output_type": "stream",
     "text": [
      "\n",
      "   1\n",
      "-------\n",
      "s^2 + s\n",
      "\n"
     ]
    }
   ],
   "source": [
    "(num,den)=zpk2tf([],[0,-1],1)\n",
    "H=tf(num,den)\n",
    "print(H)"
   ]
  },
  {
   "cell_type": "code",
   "execution_count": 13,
   "metadata": {},
   "outputs": [
    {
     "data": {
      "image/png": "[encoded data removed]",
      "text/plain": [
       "<Figure size 432x288 with 1 Axes>"
      ]
     },
     "metadata": {},
     "output_type": "display_data"
    }
   ],
   "source": [
    "rlocus(H)\n",
    "plt.show()"
   ]
  },
  {
   "cell_type": "code",
   "execution_count": 14,
   "metadata": {},
   "outputs": [
    {
     "name": "stdout",
     "output_type": "stream",
     "text": [
      "142.54939989916585\n"
     ]
    }
   ],
   "source": [
    "anl=np.angle(evalfr(H,pole1),deg=True)\n",
    "print (anl)"
   ]
  },
  {
   "cell_type": "markdown",
   "metadata": {},
   "source": [
    "## Part 3\n",
    "\n",
    "Clearly this doesnot lie on the root locus, hence we need a lead compensator. We calculate $\\phi$, the necessary angle difference. In addition we calculate $\\theta$ the positive angle made by the dominant pole, by either $arccos(\\zeta)$ or from the angle directly."
   ]
  },
  {
   "cell_type": "code",
   "execution_count": 45,
   "metadata": {},
   "outputs": [
    {
     "name": "stdout",
     "output_type": "stream",
     "text": [
      "Phi 37.45060010083418\n",
      "Theta 60.57563766283309\n",
      "Gamma 40.986881118166366\n",
      "Alpha 0.44819287447848166\n",
      "zc 1.8169680716950904 pc 4.053986966681072\n"
     ]
    }
   ],
   "source": [
    "th=np.angle(pole1+1,deg=True)+np.angle(pole1,deg=True)\n",
    "phi=-180+th\n",
    "print(f\"Phi {phi}\")\n",
    "theta=180-np.angle(pole1,deg=True)\n",
    "print(f\"Theta {theta}\")\n",
    "gamma=0.5*(180-theta-phi)\n",
    "print(f\"Gamma {gamma}\")\n",
    "alpha=np.sin(gamma*pie/180)*np.sin((theta+gamma+phi)*pie/180)/np.sin((theta+gamma)*pie/180)/np.sin((gamma+phi)*pie/180)\n",
    "print(f\"Alpha {alpha}\")\n",
    "zc=wn*np.sin(gamma*pie/180)/np.sin((theta+gamma)*pie/180)\n",
    "pc=zc/alpha\n",
    "print (f\"zc {zc} pc {pc}\")"
   ]
  },
  {
   "cell_type": "code",
   "execution_count": 49,
   "metadata": {},
   "outputs": [
    {
     "data": {
      "text/plain": [
       "\n",
       "        s + 1.817\n",
       "-------------------------\n",
       "s^3 + 5.054 s^2 + 4.054 s"
      ]
     },
     "execution_count": 49,
     "metadata": {},
     "output_type": "execute_result"
    }
   ],
   "source": [
    "Hnew = H * tf([1,zc],[1,pc])\n",
    "Hnew"
   ]
  },
  {
   "cell_type": "code",
   "execution_count": 36,
   "metadata": {},
   "outputs": [
    {
     "data": {
      "image/png": "[encoded data removed]",
      "text/plain": [
       "<Figure size 432x288 with 1 Axes>"
      ]
     },
     "metadata": {},
     "output_type": "display_data"
    }
   ],
   "source": [
    "rlocus(Hnew);"
   ]
  },
  {
   "cell_type": "code",
   "execution_count": 52,
   "metadata": {},
   "outputs": [
    {
     "name": "stdout",
     "output_type": "stream",
     "text": [
      "Phase at pole -180.0\n",
      "K 9.678165381551548\n",
      "Hlead compensator only \n",
      "     9.678 s + 17.58\n",
      "-------------------------\n",
      "s^3 + 5.054 s^2 + 4.054 s\n",
      "\n"
     ]
    }
   ],
   "source": [
    "mag = np.abs(evalfr(Hnew,pole1))\n",
    "phase = np.angle(evalfr(Hnew,pole1),deg=True)\n",
    "print (f\"Phase at pole {phase}\")\n",
    "K=1.0/mag\n",
    "print(f\"K {K}\")\n",
    "Hlead=K*Hnew\n",
    "print(f\"Hlead compensator only {Hlead}\")"
   ]
  },
  {
   "cell_type": "code",
   "execution_count": 23,
   "metadata": {},
   "outputs": [
    {
     "name": "stdout",
     "output_type": "stream",
     "text": [
      "4.337684762035719\n"
     ]
    }
   ],
   "source": [
    "Kv=K*zc/pc\n",
    "print (Kv)"
   ]
  },
  {
   "cell_type": "markdown",
   "metadata": {},
   "source": [
    "## Plot with only lead compensator"
   ]
  },
  {
   "cell_type": "code",
   "execution_count": 54,
   "metadata": {},
   "outputs": [
    {
     "data": {
      "text/plain": [
       "[<matplotlib.lines.Line2D at 0x1c15f30b00>]"
      ]
     },
     "execution_count": 54,
     "metadata": {},
     "output_type": "execute_result"
    },
    {
     "data": {
      "image/png": "[encoded data removed]",
      "text/plain": [
       "<Figure size 432x288 with 1 Axes>"
      ]
     },
     "metadata": {},
     "output_type": "display_data"
    }
   ],
   "source": [
    "T = linspace(0,10,1000)\n",
    "(y,T)=step(feedback(Hlead),T)\n",
    "plt.plot(T,y)"
   ]
  },
  {
   "cell_type": "code",
   "execution_count": 55,
   "metadata": {},
   "outputs": [],
   "source": [
    "def stepinfo(t,yout):\n",
    "    print (\"OS\",(yout.max()/yout[-1]-1)*100,'%')\n",
    "    print (\"Tr\",t[next(i for i in range(0,len(yout)-1) if yout[i]>yout[-1]*.90)]-t[0])\n",
    "    print (\"Ts\",t[next(len(yout)-i for i in range(2,len(yout)-1) if abs(yout[-i]/yout[-1])>1.02)]-t[0])"
   ]
  },
  {
   "cell_type": "code",
   "execution_count": 26,
   "metadata": {},
   "outputs": [
    {
     "name": "stdout",
     "output_type": "stream",
     "text": [
      "OS 25.39881214713917 %\n",
      "Tr 0.6706706706706707\n",
      "Ts 2.032032032032032\n"
     ]
    }
   ],
   "source": [
    "stepinfo(T,y)"
   ]
  },
  {
   "cell_type": "markdown",
   "metadata": {},
   "source": [
    "## $\\alpha*\\beta=1$"
   ]
  },
  {
   "cell_type": "code",
   "execution_count": 56,
   "metadata": {},
   "outputs": [
    {
     "data": {
      "text/plain": [
       "\n",
       "      9.678 s^2 + 18.07 s + 0.8792\n",
       "---------------------------------------\n",
       "s^4 + 5.076 s^3 + 4.167 s^2 + 0.09085 s"
      ]
     },
     "execution_count": 56,
     "metadata": {},
     "output_type": "execute_result"
    }
   ],
   "source": [
    "beta=1.0/alpha\n",
    "zg=0.05\n",
    "pg=zg/beta\n",
    "Hlag=tf([1,zg],[1,pg])\n",
    "Hleadlag=Hlead*Hlag\n",
    "Hleadlag"
   ]
  },
  {
   "cell_type": "code",
   "execution_count": 41,
   "metadata": {},
   "outputs": [
    {
     "name": "stdout",
     "output_type": "stream",
     "text": [
      "OS 26.16900489320202 %\n",
      "Tr 0.6706706706706707\n",
      "Ts 2.042042042042042\n",
      "Kv: 20.0\n"
     ]
    },
    {
     "data": {
      "image/png": "[encoded data removed]",
      "text/plain": [
       "<Figure size 432x288 with 1 Axes>"
      ]
     },
     "metadata": {},
     "output_type": "display_data"
    },
    {
     "data": {
      "image/png": "[encoded data removed]",
      "text/plain": [
       "<Figure size 432x288 with 1 Axes>"
      ]
     },
     "metadata": {},
     "output_type": "display_data"
    }
   ],
   "source": [
    "T=linspace(0,10,1000)\n",
    "(y,T)=step(Hleadlag/(1+Hleadlag),T)\n",
    "plt.plot(T,y)\n",
    "stepinfo(T,y);\n",
    "print (\"Kv:\",Kv*beta)\n",
    "rlocus(Hleadlag);"
   ]
  },
  {
   "cell_type": "markdown",
   "metadata": {},
   "source": [
    "## Part 4, 6 Independent $\\alpha$, $\\beta$\n",
    "\n",
    "We set $\\beta = Kv_{desired}/Kv_{obtained}$ , when obtained from the lead compensator."
   ]
  },
  {
   "cell_type": "code",
   "execution_count": 29,
   "metadata": {},
   "outputs": [
    {
     "name": "stdout",
     "output_type": "stream",
     "text": [
      "\n",
      "      9.678 s^2 + 18.07 s + 0.8792\n",
      "---------------------------------------\n",
      "s^4 + 5.076 s^3 + 4.167 s^2 + 0.09085 s\n",
      "\n"
     ]
    }
   ],
   "source": [
    "Kv_desire=20\n",
    "beta=Kv_desire/Kv\n",
    "zg=0.05\n",
    "pg=zg/beta\n",
    "H_lag=tf([1,zg],[1,pg])\n",
    "Hlead_lag=Hlead*Hlag\n",
    "print(Hlead_lag)"
   ]
  },
  {
   "cell_type": "markdown",
   "metadata": {},
   "source": [
    "We plot the step response and the root locus of the above system."
   ]
  },
  {
   "cell_type": "code",
   "execution_count": 37,
   "metadata": {},
   "outputs": [
    {
     "name": "stdout",
     "output_type": "stream",
     "text": [
      "OS 26.16900489320171 %\n",
      "Tr 0.6706706706706707\n",
      "Ts 2.042042042042042\n"
     ]
    },
    {
     "data": {
      "image/png": "[encoded data removed]",
      "text/plain": [
       "<Figure size 432x288 with 1 Axes>"
      ]
     },
     "metadata": {},
     "output_type": "display_data"
    }
   ],
   "source": [
    "T=linspace(0,10,1000)\n",
    "(y,T)=step(feedback(Hlead_lag),T)\n",
    "plt.plot(T,y)\n",
    "stepinfo(T,y);"
   ]
  },
  {
   "cell_type": "code",
   "execution_count": 38,
   "metadata": {},
   "outputs": [
    {
     "data": {
      "image/png": "[encoded data removed]",
      "text/plain": [
       "<Figure size 432x288 with 1 Axes>"
      ]
     },
     "metadata": {},
     "output_type": "display_data"
    }
   ],
   "source": [
    "rlocus(Hleadlag);"
   ]
  }
 ],
 "metadata": {
  "kernelspec": {
   "display_name": "Python 3",
   "language": "python",
   "name": "python3"
  },
  "language_info": {
   "codemirror_mode": {
    "name": "ipython",
    "version": 3
   },
   "file_extension": ".py",
   "mimetype": "text/x-python",
   "name": "python",
   "nbconvert_exporter": "python",
   "pygments_lexer": "ipython3",
   "version": "3.6.5"
  }
 },
 "nbformat": 4,
 "nbformat_minor": 2
}
